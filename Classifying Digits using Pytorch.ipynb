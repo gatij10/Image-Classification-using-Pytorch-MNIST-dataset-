{
 "cells": [
  {
   "cell_type": "code",
   "execution_count": 2,
   "metadata": {},
   "outputs": [],
   "source": [
    "import torch\n",
    "torch.cuda.is_available()\n",
    "import matplotlib.pyplot as plt\n",
    "import numpy as np"
   ]
  },
  {
   "cell_type": "code",
   "execution_count": null,
   "metadata": {},
   "outputs": [],
   "source": []
  },
  {
   "cell_type": "code",
   "execution_count": 3,
   "metadata": {},
   "outputs": [
    {
     "name": "stdout",
     "output_type": "stream",
     "text": [
      "Requirement already satisfied: torchvision in c:\\users\\lenovo\\appdata\\local\\programs\\python\\python36\\lib\\site-packages (0.4.1)\n",
      "Requirement already satisfied: torch in c:\\users\\lenovo\\appdata\\local\\programs\\python\\python36\\lib\\site-packages (from torchvision) (1.1.0)\n",
      "Requirement already satisfied: numpy in c:\\users\\lenovo\\appdata\\local\\programs\\python\\python36\\lib\\site-packages (from torchvision) (1.17.3)\n",
      "Requirement already satisfied: pillow>=4.1.1 in c:\\users\\lenovo\\appdata\\local\\programs\\python\\python36\\lib\\site-packages (from torchvision) (6.2.1)\n",
      "Requirement already satisfied: six in c:\\users\\lenovo\\appdata\\local\\programs\\python\\python36\\lib\\site-packages (from torchvision) (1.12.0)\n",
      "Note: you may need to restart the kernel to use updated packages.\n"
     ]
    }
   ],
   "source": [
    "pip install torchvision\n"
   ]
  },
  {
   "cell_type": "code",
   "execution_count": 4,
   "metadata": {},
   "outputs": [],
   "source": [
    "from torchvision import datasets,transforms"
   ]
  },
  {
   "cell_type": "code",
   "execution_count": 5,
   "metadata": {},
   "outputs": [],
   "source": [
    "transform = transforms.Compose([transforms.ToTensor(),\n",
    "transforms.Normalize((0.5,), (0.5,))])\n",
    "trainset=datasets.MNIST('MNIST_data/',download=True,train=True,transform=transform)\n",
    "trainloader=torch.utils.data.DataLoader(trainset,batch_size=64,shuffle=True)"
   ]
  },
  {
   "cell_type": "code",
   "execution_count": 6,
   "metadata": {},
   "outputs": [
    {
     "name": "stdout",
     "output_type": "stream",
     "text": [
      "<class 'torch.Tensor'>\n",
      "torch.Size([64])\n",
      "torch.Size([64, 1, 28, 28])\n"
     ]
    },
    {
     "data": {
      "text/plain": [
       "<matplotlib.image.AxesImage at 0x23af4402fd0>"
      ]
     },
     "execution_count": 6,
     "metadata": {},
     "output_type": "execute_result"
    },
    {
     "data": {
      "image/png": "[encoded data removed]",
      "text/plain": [
       "<Figure size 432x288 with 1 Axes>"
      ]
     },
     "metadata": {
      "needs_background": "light"
     },
     "output_type": "display_data"
    }
   ],
   "source": [
    "dataiter=iter(trainloader)\n",
    "images,labels=dataiter.next()\n",
    "print(type(images))\n",
    "print(labels.shape)\n",
    "print(images.shape)\n",
    "plt.imshow(images[1].numpy().squeeze(),cmap='Greys_r')"
   ]
  },
  {
   "cell_type": "code",
   "execution_count": 7,
   "metadata": {},
   "outputs": [
    {
     "name": "stdout",
     "output_type": "stream",
     "text": [
      "torch.Size([64, 10])\n",
      "tensor([[-3.4287e+00,  6.2292e-02,  1.6951e+01, -2.1927e+00, -6.9775e+00,\n",
      "          1.2195e+01,  1.7988e+00, -2.3882e+01,  1.4688e+01,  7.5675e+00],\n",
      "        [ 6.6303e+00,  1.3622e+01,  4.0774e+00,  4.1734e+00, -2.8858e+00,\n",
      "          1.2221e+01,  4.5406e+00, -2.9323e+01,  9.0857e+00,  1.5256e+01],\n",
      "        [ 1.6071e+00, -1.2620e+01,  9.3689e+00,  4.5671e+00, -9.3664e+00,\n",
      "          1.6355e+01, -1.5814e+00, -2.2385e+01,  1.7468e+01,  4.6160e+00],\n",
      "        [-2.8793e+00, -3.4422e+00,  1.8284e+01, -2.8824e+00, -8.8658e+00,\n",
      "          8.1209e+00, -2.4792e+00, -1.4787e+01,  1.7896e+01,  3.7805e+00],\n",
      "        [ 4.1878e-01, -5.4900e+00, -2.2180e+00, -4.9449e+00, -1.5710e+00,\n",
      "          1.9174e+01,  9.1027e+00, -1.4599e+01,  1.3162e+01,  1.0750e+01],\n",
      "        [-9.7367e-01,  2.3784e+00,  9.8430e+00,  1.5186e+00, -8.3415e+00,\n",
      "          1.2261e+01, -2.9849e+00, -1.6896e+01,  4.9900e+00,  7.9156e+00],\n",
      "        [ 2.7030e+00, -1.1261e+01,  2.0352e+01, -7.5383e+00, -4.8512e+00,\n",
      "          9.2012e+00, -2.0011e+00, -2.9042e+01,  1.7670e+01,  1.5263e+01],\n",
      "        [ 1.3486e+01, -2.5383e+00,  1.1505e+01,  2.9361e+00, -1.1711e+01,\n",
      "          1.1203e+01, -5.0147e+00, -1.6099e+01,  1.4252e+01,  1.3151e+01],\n",
      "        [ 1.9089e+00,  4.8674e+00,  1.4449e+00, -7.6689e+00, -1.0386e+01,\n",
      "          1.8556e+01,  3.6309e+00, -1.9248e+01,  1.0037e+01,  7.4671e+00],\n",
      "        [ 3.3608e+00, -5.2449e+00,  9.1354e+00, -2.4300e-01, -7.5661e+00,\n",
      "          1.7279e+01, -3.4792e+00, -2.0036e+01,  1.5483e+01,  1.2927e+01],\n",
      "        [ 6.8074e+00, -5.3106e+00,  1.0783e+01,  6.5220e+00, -1.9325e+00,\n",
      "          2.1209e+01,  6.5301e+00, -1.4751e+01,  1.7278e+01, -2.8852e-02],\n",
      "        [ 7.0203e+00, -2.0265e+00,  1.0820e+01, -5.6203e+00, -8.8421e+00,\n",
      "          1.5162e+01,  4.8436e-01, -2.1124e+01,  1.1060e+01,  1.1070e+01],\n",
      "        [ 6.3799e+00, -5.5400e-01,  1.8609e+01, -8.9099e+00, -8.6933e+00,\n",
      "          1.5025e+01, -7.2832e+00, -1.5492e+01,  6.6362e+00,  5.1852e+00],\n",
      "        [ 4.9437e+00, -4.6576e+00,  1.4620e+01,  1.9965e+00, -2.6053e+00,\n",
      "          1.2181e+01, -6.2056e+00, -1.7558e+01,  1.0170e+01,  1.2083e+01],\n",
      "        [ 2.1931e+00,  3.3459e+00,  9.0519e+00, -1.1807e+00, -1.2037e+01,\n",
      "          1.1569e+01,  6.6436e-01, -2.0232e+01,  1.6870e+01,  8.6356e+00],\n",
      "        [-4.2491e+00,  6.3891e+00,  9.1432e+00, -3.8379e+00,  3.2185e+00,\n",
      "          2.0148e+01, -4.8376e+00, -1.5293e+01, -4.7398e+00,  1.2313e+01],\n",
      "        [ 1.1748e+00, -6.5900e+00,  7.4333e+00,  6.5107e+00, -8.7748e+00,\n",
      "          1.0528e+01, -2.3184e+00, -2.3499e+01,  5.3922e+00,  1.2367e+01],\n",
      "        [ 1.3784e+01,  4.9342e-01,  1.1482e+01,  7.8810e-03, -7.2885e+00,\n",
      "          1.7250e+01,  6.8264e+00, -1.4678e+01,  9.6315e+00,  4.9115e+00],\n",
      "        [ 3.0453e+00,  6.6130e+00,  1.2603e+01,  6.1615e-01, -6.2030e+00,\n",
      "          1.1251e+01, -4.0061e+00, -1.8637e+01,  1.0968e+01,  1.7562e+01],\n",
      "        [ 8.4790e+00, -4.1675e+00,  9.7924e+00,  4.9834e+00, -2.2805e+00,\n",
      "          1.0466e+01,  4.2942e+00, -2.1131e+01,  2.2664e+01,  3.6773e+00],\n",
      "        [ 3.6961e-01, -2.9108e+00,  1.5124e+01, -4.3944e+00, -3.2867e-01,\n",
      "          1.6610e+01, -7.0577e+00, -1.8861e+01,  5.2293e+00,  2.6434e+00],\n",
      "        [ 1.7339e+01, -9.2164e+00,  8.1761e+00,  5.9254e-01, -6.3580e+00,\n",
      "          4.6386e+00,  5.1633e+00, -2.1871e+01,  2.0252e+01,  8.2957e+00],\n",
      "        [ 2.2018e+00, -6.7310e+00,  9.6394e+00,  2.5638e+00, -3.1948e+00,\n",
      "          1.3587e+01, -1.0764e+00, -2.0521e+01,  1.5977e+01,  9.6238e+00],\n",
      "        [ 1.2001e+01, -1.7458e+00,  4.8401e+00, -5.2123e+00, -2.9376e-01,\n",
      "          2.2269e+01,  3.0207e+00, -3.1741e+01,  1.6255e+01,  1.0501e+01],\n",
      "        [-1.5601e+00, -1.0190e+01,  1.3178e+01,  4.9772e+00, -1.3996e+00,\n",
      "          2.0558e+01, -5.6711e+00, -2.0828e+01,  1.1629e+01,  1.3104e+01],\n",
      "        [-6.2273e-01, -5.7416e+00,  8.2787e+00,  6.4610e+00, -1.2390e+01,\n",
      "          1.5956e+01,  2.8450e+00, -1.6716e+01,  1.0528e+01,  1.5247e+01],\n",
      "        [ 1.2511e+00, -9.0298e+00,  1.6681e+01,  3.8934e+00, -1.7454e+00,\n",
      "          1.7630e+01, -1.2833e+01, -2.4743e+01,  8.8915e+00,  1.5673e+00],\n",
      "        [ 1.2788e+01, -1.6663e+00,  1.4015e+01,  1.9324e+00, -1.3021e+01,\n",
      "          2.1648e+01,  1.2147e+00, -2.6010e+01,  1.1478e+01,  4.4648e+00],\n",
      "        [ 7.7754e+00, -8.5635e+00,  9.3809e+00, -7.3656e+00,  2.6647e+00,\n",
      "          1.9865e+01, -2.6142e-01, -1.3635e+01,  1.3018e+01,  3.2214e+00],\n",
      "        [ 4.8561e+00, -5.9573e+00,  1.1590e+01,  1.3467e+00, -3.5449e+00,\n",
      "          1.6480e+01, -2.2698e-01, -3.0433e+01,  1.3212e+01,  6.6520e+00],\n",
      "        [ 3.4855e+00, -1.2088e+01,  1.1646e+01, -9.7868e+00, -3.9365e+00,\n",
      "          1.6305e+01, -7.4764e+00, -2.7227e+01,  6.1044e+00,  1.5909e+01],\n",
      "        [ 5.3010e+00, -6.5082e+00,  1.3022e+01, -6.0611e+00, -7.1705e+00,\n",
      "          1.7959e+01, -9.7715e-01, -1.7277e+01,  1.7268e+01,  4.5565e+00],\n",
      "        [ 1.0855e+01, -2.5611e+00,  7.0970e+00,  5.3556e+00,  1.9279e+00,\n",
      "          1.7435e+01,  5.0741e+00, -2.6121e+01,  4.0004e+00,  1.3642e+01],\n",
      "        [ 8.1053e+00, -1.1101e+01,  1.5338e+01, -1.1347e+00, -1.3111e+01,\n",
      "          6.6711e+00, -9.4118e+00, -2.8264e+01,  1.0312e+01,  4.6290e+00],\n",
      "        [ 4.0924e+00, -9.2848e-01,  5.6469e+00, -8.9614e-01, -6.9360e+00,\n",
      "          2.2989e+01,  6.3833e+00, -3.1530e+01,  1.3078e+01,  7.0631e+00],\n",
      "        [ 1.3485e+01, -7.5874e+00,  9.2678e+00,  2.7410e+00, -5.8864e+00,\n",
      "          1.1236e+01,  8.9321e+00, -2.5523e+01,  1.6736e+01,  2.6874e+00],\n",
      "        [-2.5187e+00, -8.0855e-01,  6.0317e+00, -2.8287e+00, -7.3045e+00,\n",
      "          2.1986e+01,  1.2768e+00, -2.4002e+01,  2.2260e+01,  1.0934e+01],\n",
      "        [-1.2763e+00, -3.2308e+00,  1.7807e+01, -8.8181e-01, -1.2363e+00,\n",
      "          1.0851e+01, -4.1951e+00, -2.7286e+01,  1.3000e+00,  6.7980e+00],\n",
      "        [-4.4962e+00, -8.5729e+00,  6.7308e+00,  5.6510e+00, -1.3840e+01,\n",
      "          1.7891e+01, -1.2580e+00, -9.5488e+00,  1.2215e+01,  9.7160e+00],\n",
      "        [ 9.2065e+00,  1.0082e+00,  1.4775e+01, -1.0160e+00, -9.2129e+00,\n",
      "          1.0639e+01,  9.1418e-01, -3.2518e+01,  2.0853e+01,  7.2182e+00],\n",
      "        [-4.5217e+00, -1.0417e+01,  8.9666e+00, -5.8221e-01,  2.3226e-01,\n",
      "          9.8270e+00, -4.3218e+00, -1.3308e+01,  1.3220e+01,  9.7653e+00],\n",
      "        [ 1.6447e+00, -8.9137e+00,  9.1214e+00, -6.0946e+00, -8.1200e+00,\n",
      "          1.7742e+01,  1.2307e+00, -2.4608e+01,  5.8775e+00,  9.7355e+00],\n",
      "        [ 3.6458e+00,  1.4352e+00,  2.6689e+00,  2.3385e+00, -1.0651e+01,\n",
      "          2.0624e+01,  1.5920e+00, -2.2000e+01,  9.0711e+00,  4.5979e+00],\n",
      "        [ 4.7467e+00, -6.7291e+00,  1.1580e+01, -7.7864e+00, -9.2956e-01,\n",
      "          9.3650e+00, -1.2072e+00, -2.2250e+01,  1.1636e+01,  1.9846e+00],\n",
      "        [ 3.3470e+00,  1.2263e+01,  6.0231e+00, -1.7626e+00, -1.6272e+01,\n",
      "         -1.8210e+00, -3.8101e+00, -2.2963e+01,  8.2199e+00,  8.8600e+00],\n",
      "        [ 6.3281e+00,  8.7481e+00,  4.0958e+00, -2.5547e+00, -9.1457e+00,\n",
      "          1.4888e+01, -5.8268e+00, -1.4611e+01,  1.0386e+01,  6.5457e+00],\n",
      "        [ 1.0226e+01, -4.7966e+00,  1.3526e+01,  1.3052e+00, -1.0391e+01,\n",
      "          1.6208e+01, -1.5688e+00, -1.7303e+01,  6.0802e+00,  7.9713e+00],\n",
      "        [-3.0891e+00, -4.5225e+00,  4.2733e+00,  6.4671e+00, -7.2223e+00,\n",
      "          1.2769e+01, -5.3000e-01, -1.2206e+01,  1.1660e+01,  2.1527e+00],\n",
      "        [ 1.1043e+01, -4.1742e+00,  1.3922e+01, -3.6649e+00, -1.1417e+01,\n",
      "          1.8864e+01, -3.4820e+00, -2.7138e+01,  1.9071e+01,  9.5052e+00],\n",
      "        [ 1.0618e+01, -9.4083e+00,  1.2012e+01,  2.4569e+00,  3.4234e+00,\n",
      "          2.5154e+01, -4.0028e+00, -2.8545e+01,  1.9593e+01,  9.5829e+00],\n",
      "        [ 6.0673e+00,  3.1775e+00,  9.9775e+00, -4.0394e+00, -9.8921e+00,\n",
      "          1.8860e+01, -4.4620e-01, -1.7371e+01,  8.7457e+00,  1.1266e+01],\n",
      "        [ 2.0565e+00, -1.3094e+00,  4.1816e+00, -1.0564e+01,  3.6050e-01,\n",
      "          1.2302e+01, -3.1226e+00, -1.6977e+01,  7.1551e+00, -3.8098e-02],\n",
      "        [ 2.7296e+00, -2.9390e+00,  1.3671e+01,  1.0453e+00, -7.3330e+00,\n",
      "          2.3622e+01,  6.7064e+00, -2.7842e+01,  7.0508e+00,  1.6466e-01],\n",
      "        [ 4.0130e-02, -7.0091e+00,  6.9339e+00,  1.1521e+01, -1.4980e+01,\n",
      "          2.1009e+01, -4.9312e+00, -1.6068e+01,  8.7637e+00,  7.6647e+00],\n",
      "        [ 1.7231e+01, -1.4821e+01,  7.2935e+00,  3.8008e+00,  5.1666e-01,\n",
      "          1.4586e+01,  1.1929e+01, -2.3636e+01,  1.2952e+01,  6.0841e+00],\n",
      "        [ 1.7002e+01,  1.4735e+01,  8.0873e+00,  2.0448e-01, -1.0104e+01,\n",
      "          1.5900e+01, -5.6767e+00, -2.5371e+01,  1.0033e+01,  1.9573e+01],\n",
      "        [ 8.0234e+00, -7.2521e+00,  1.6450e+01, -3.9331e-01, -9.1021e+00,\n",
      "          1.2303e+01, -3.4338e+00, -3.0453e+01,  1.0638e+01,  8.3055e+00],\n",
      "        [ 4.5680e-01, -3.2973e+00,  6.7786e+00, -3.0245e-01, -7.9025e+00,\n",
      "          1.8661e+01, -4.1731e+00, -3.0728e+01,  1.3627e+01,  6.5633e+00],\n",
      "        [ 5.9884e+00,  1.9703e+00,  1.7365e+01,  8.6766e-01, -7.5842e+00,\n",
      "          1.6347e+01,  1.2259e+00, -2.6717e+01,  1.5334e+01,  9.7460e+00],\n",
      "        [ 2.6425e+00,  3.0065e+00,  7.2383e+00, -2.1942e+00, -8.5383e+00,\n",
      "          1.9544e+01,  2.5586e+00, -2.7492e+01,  2.1410e+01,  1.4594e+01],\n",
      "        [ 7.2420e+00, -6.3691e+00,  1.3923e+01,  5.7990e+00, -7.1544e+00,\n",
      "          1.7157e+01, -1.3076e+01, -1.3705e+01,  5.8581e+00,  9.3666e+00],\n",
      "        [ 1.3510e+01,  4.4800e+00,  1.1504e+01,  7.5685e-01, -1.7566e+01,\n",
      "          1.3800e+01, -2.1846e+00, -2.2800e+01,  1.3814e+01,  7.1065e+00],\n",
      "        [ 1.1976e+01, -5.3574e+00,  1.2207e+01,  2.3951e+00, -1.4493e+00,\n",
      "          2.2163e+01, -7.9445e+00, -1.6695e+01,  1.3793e+01,  1.0456e+01],\n",
      "        [ 1.2986e+01,  4.3215e+00,  1.2322e+01,  1.4215e-01, -1.7169e+01,\n",
      "          1.9113e+01, -7.4510e-01, -1.9881e+01,  1.3534e+01,  8.5550e+00]])\n"
     ]
    }
   ],
   "source": [
    "#Neural Network manually\n",
    "def activation(x):\n",
    "    return 1/(1+torch.exp(-x))\n",
    "\n",
    "#flatten the input images\n",
    "inputs=images.view(images.shape[0],-1)   #.shape[0] gives the number of batches\n",
    "\n",
    "#input Layer-\n",
    "w1=torch.randn(784,256)\n",
    "b1=torch.randn(256)\n",
    "\n",
    "#Hidden layer\n",
    "w2=torch.randn(256,10)\n",
    "b2=torch.randn(10)\n",
    "\n",
    "#output of hidden layer\n",
    "h=activation(torch.matmul(inputs,w1)+b1)\n",
    "\n",
    "#output\n",
    "output=(torch.matmul(h,w2)+b2)\n",
    "\n",
    "print(output.shape)\n",
    "print(output)\n"
   ]
  },
  {
   "cell_type": "code",
   "execution_count": 8,
   "metadata": {},
   "outputs": [
    {
     "name": "stdout",
     "output_type": "stream",
     "text": [
      "torch.Size([64, 10])\n",
      "tensor([1.0000, 1.0000, 1.0000, 1.0000, 1.0000, 1.0000, 1.0000, 1.0000, 1.0000,\n",
      "        1.0000, 1.0000, 1.0000, 1.0000, 1.0000, 1.0000, 1.0000, 1.0000, 1.0000,\n",
      "        1.0000, 1.0000, 1.0000, 1.0000, 1.0000, 1.0000, 1.0000, 1.0000, 1.0000,\n",
      "        1.0000, 1.0000, 1.0000, 1.0000, 1.0000, 1.0000, 1.0000, 1.0000, 1.0000,\n",
      "        1.0000, 1.0000, 1.0000, 1.0000, 1.0000, 1.0000, 1.0000, 1.0000, 1.0000,\n",
      "        1.0000, 1.0000, 1.0000, 1.0000, 1.0000, 1.0000, 1.0000, 1.0000, 1.0000,\n",
      "        1.0000, 1.0000, 1.0000, 1.0000, 1.0000, 1.0000, 1.0000, 1.0000, 1.0000,\n",
      "        1.0000])\n",
      "tensor([[1.2669e-09, 4.1578e-08, 8.9876e-01, 4.3603e-09, 3.6435e-11, 7.7239e-03,\n",
      "         2.3606e-07, 1.6602e-18, 9.3440e-02, 7.5566e-05],\n",
      "        [1.4405e-04, 1.5671e-01, 1.1215e-05, 1.2345e-05, 1.0610e-08, 3.8597e-02,\n",
      "         1.7821e-05, 3.5008e-20, 1.6782e-03, 8.0283e-01],\n",
      "        [9.7358e-08, 6.4516e-14, 2.2870e-04, 1.8787e-06, 1.6696e-12, 2.4730e-01,\n",
      "         4.0144e-09, 3.7045e-18, 7.5246e-01, 1.9729e-06],\n",
      "        [3.8377e-10, 2.1857e-10, 5.9586e-01, 3.8255e-10, 9.6418e-13, 2.2982e-05,\n",
      "         5.7255e-10, 2.5868e-15, 4.0411e-01, 2.9948e-07],\n",
      "        [7.1371e-09, 1.9380e-11, 5.1095e-10, 3.3426e-11, 9.7579e-10, 9.9730e-01,\n",
      "         4.2161e-05, 2.1457e-15, 2.4436e-03, 2.1885e-04],\n",
      "        [1.6205e-06, 4.6281e-05, 8.0772e-02, 1.9589e-05, 1.0229e-09, 9.0678e-01,\n",
      "         2.1686e-07, 1.9704e-13, 6.3043e-04, 1.1755e-02],\n",
      "        [2.0126e-08, 1.7350e-14, 9.3059e-01, 7.1777e-13, 1.0544e-11, 1.3362e-05,\n",
      "         1.8229e-10, 3.2895e-22, 6.3660e-02, 5.7355e-03],\n",
      "        [2.4358e-01, 2.6756e-08, 3.3609e-02, 6.3812e-06, 2.7780e-12, 2.4849e-02,\n",
      "         2.2487e-09, 3.4531e-14, 5.2378e-01, 1.7418e-01],\n",
      "        [5.8884e-08, 1.1347e-06, 3.7026e-08, 4.0778e-12, 2.6928e-13, 9.9978e-01,\n",
      "         3.2952e-07, 3.8160e-17, 1.9947e-04, 1.5273e-05],\n",
      "        [7.6541e-07, 1.4012e-10, 2.4647e-04, 2.0834e-08, 1.3753e-11, 8.4807e-01,\n",
      "         8.1906e-10, 5.2829e-17, 1.4076e-01, 1.0922e-02],\n",
      "        [5.4580e-07, 2.9802e-12, 2.9067e-05, 4.1028e-07, 8.7358e-11, 9.8073e-01,\n",
      "         4.1359e-07, 2.3666e-16, 1.9239e-02, 5.8623e-10],\n",
      "        [2.7809e-04, 3.2752e-08, 1.2427e-02, 9.0042e-10, 3.5911e-11, 9.5555e-01,\n",
      "         4.0335e-07, 1.6648e-16, 1.5792e-02, 1.5955e-02],\n",
      "        [4.7530e-06, 4.6306e-09, 9.7297e-01, 1.0882e-12, 1.3514e-12, 2.7020e-02,\n",
      "         5.5356e-12, 1.5070e-15, 6.1417e-06, 1.4393e-06],\n",
      "        [5.3279e-05, 3.6038e-09, 8.4876e-01, 2.7963e-06, 2.8057e-08, 7.4086e-02,\n",
      "         7.6641e-10, 9.0005e-15, 9.9169e-03, 6.7181e-02],\n",
      "        [4.2008e-07, 1.3305e-06, 4.0002e-04, 1.4391e-08, 2.7743e-13, 4.9591e-03,\n",
      "         9.1079e-08, 7.6641e-17, 9.9438e-01, 2.6381e-04],\n",
      "        [2.5376e-11, 1.0581e-06, 1.6620e-05, 3.8283e-11, 4.4418e-08, 9.9959e-01,\n",
      "         1.4088e-11, 4.0577e-16, 1.5536e-11, 3.9572e-04],\n",
      "        [1.1774e-05, 4.9972e-09, 6.1511e-03, 2.4449e-03, 5.6215e-10, 1.3583e-01,\n",
      "         3.5797e-07, 2.2669e-16, 7.9891e-04, 8.5476e-01],\n",
      "        [3.0177e-02, 5.1026e-08, 3.0203e-03, 3.1400e-08, 2.1289e-11, 9.6630e-01,\n",
      "         2.8719e-05, 1.3155e-14, 4.7467e-04, 4.2319e-06],\n",
      "        [4.9111e-07, 1.7402e-05, 6.9490e-03, 4.3272e-08, 4.7283e-11, 1.7989e-03,\n",
      "         4.2537e-10, 1.8818e-16, 1.3549e-03, 9.8988e-01],\n",
      "        [6.9100e-07, 2.2242e-12, 2.5698e-06, 2.0958e-08, 1.4679e-11, 5.0398e-06,\n",
      "         1.0521e-08, 9.5544e-20, 9.9999e-01, 5.6770e-09],\n",
      "        [7.2191e-08, 2.7153e-09, 1.8455e-01, 6.1590e-10, 3.5911e-08, 8.1544e-01,\n",
      "         4.2939e-11, 3.2108e-16, 9.3113e-06, 7.0141e-07],\n",
      "        [5.1511e-02, 1.5096e-13, 5.3994e-06, 2.7469e-09, 2.6320e-12, 1.5705e-07,\n",
      "         2.6541e-07, 4.8183e-19, 9.4848e-01, 6.0853e-06],\n",
      "        [9.5099e-07, 1.2553e-10, 1.6154e-03, 1.3659e-06, 4.3101e-09, 8.3691e-02,\n",
      "         3.5850e-08, 1.2876e-16, 9.1310e-01, 1.5904e-03],\n",
      "        [3.4644e-05, 3.7117e-11, 2.6901e-08, 1.1590e-12, 1.5855e-10, 9.9752e-01,\n",
      "         4.3614e-09, 3.4904e-24, 2.4393e-03, 7.7286e-06],\n",
      "        [2.4747e-10, 4.4236e-14, 6.2232e-04, 1.7086e-07, 2.9054e-10, 9.9867e-01,\n",
      "         4.0565e-12, 1.0603e-18, 1.3230e-04, 5.7827e-04],\n",
      "        [4.2146e-08, 2.5214e-10, 3.0946e-04, 5.0255e-05, 3.2684e-13, 6.6804e-01,\n",
      "         1.3513e-06, 4.3221e-15, 2.9342e-03, 3.2867e-01],\n",
      "        [5.5543e-08, 1.9041e-12, 2.7904e-01, 7.8016e-07, 2.7751e-09, 7.2084e-01,\n",
      "         4.2444e-14, 2.8548e-19, 1.1557e-04, 7.6205e-08],\n",
      "        [1.4196e-04, 7.4917e-11, 4.8416e-04, 2.7383e-09, 8.7751e-16, 9.9934e-01,\n",
      "         1.3359e-09, 2.0056e-21, 3.8307e-05, 3.4458e-08],\n",
      "        [5.6122e-06, 4.5003e-13, 2.7952e-05, 1.4910e-12, 3.3851e-08, 9.9891e-01,\n",
      "         1.8147e-09, 2.8218e-15, 1.0613e-03, 5.9071e-08],\n",
      "        [8.5582e-06, 1.7226e-10, 7.1940e-03, 2.5603e-07, 1.9225e-09, 9.5632e-01,\n",
      "         5.3067e-08, 4.0393e-21, 3.6421e-02, 5.1560e-05],\n",
      "        [1.6093e-06, 2.7736e-13, 5.6302e-03, 2.7706e-12, 9.6236e-10, 5.9435e-01,\n",
      "         2.7925e-11, 7.3856e-20, 2.2082e-05, 4.0000e-01],\n",
      "        [2.1100e-06, 1.5689e-11, 4.7574e-03, 2.4533e-11, 8.0902e-12, 6.6298e-01,\n",
      "         3.9600e-09, 3.3029e-16, 3.3226e-01, 1.0022e-06],\n",
      "        [1.3557e-03, 2.0208e-09, 3.1623e-05, 5.5426e-06, 1.7992e-07, 9.7660e-01,\n",
      "         4.1827e-06, 1.1851e-19, 1.4295e-06, 2.2001e-02],\n",
      "        [7.1703e-04, 3.2671e-12, 9.9258e-01, 6.9606e-08, 4.3800e-13, 1.7088e-04,\n",
      "         1.7700e-11, 1.1494e-19, 6.5146e-03, 2.2172e-05],\n",
      "        [6.2103e-09, 4.0978e-11, 2.9391e-08, 4.2325e-11, 1.0081e-13, 9.9995e-01,\n",
      "         6.1376e-08, 2.1020e-24, 4.9618e-05, 1.2113e-07],\n",
      "        [3.7118e-02, 2.6169e-11, 5.4694e-04, 8.0050e-07, 1.4339e-10, 3.9149e-03,\n",
      "         3.9094e-04, 4.2527e-19, 9.5803e-01, 7.5874e-07],\n",
      "        [9.8439e-12, 5.4436e-11, 5.0880e-08, 7.2200e-12, 8.2171e-14, 4.3195e-01,\n",
      "         4.3807e-10, 4.6058e-21, 5.6804e-01, 6.8509e-06],\n",
      "        [5.1484e-09, 7.2916e-10, 9.9903e-01, 7.6382e-09, 5.3585e-09, 9.5209e-04,\n",
      "         2.7801e-10, 2.6058e-20, 6.7690e-08, 1.6530e-05],\n",
      "        [1.8879e-10, 3.2024e-12, 1.4184e-05, 4.8177e-06, 1.6525e-14, 9.9628e-01,\n",
      "         4.8116e-09, 1.2068e-12, 3.4155e-03, 2.8069e-04],\n",
      "        [8.7280e-06, 2.4013e-09, 2.2881e-03, 3.1722e-10, 8.7391e-14, 3.6560e-05,\n",
      "         2.1858e-09, 6.6131e-24, 9.9767e-01, 1.1952e-06],\n",
      "        [1.8262e-08, 5.0240e-11, 1.3165e-02, 9.3852e-07, 2.1192e-06, 3.1126e-02,\n",
      "         2.2304e-08, 2.7911e-12, 9.2644e-01, 2.9262e-02],\n",
      "        [1.0208e-07, 2.6514e-12, 1.8031e-04, 4.4443e-11, 5.8640e-12, 9.9948e-01,\n",
      "         6.7472e-08, 4.0528e-19, 7.0345e-06, 3.3321e-04],\n",
      "        [4.2291e-08, 4.6369e-09, 1.5923e-08, 1.1443e-08, 2.6124e-14, 9.9999e-01,\n",
      "         5.4238e-09, 3.0788e-19, 9.6034e-06, 1.0959e-07],\n",
      "        [4.9710e-04, 5.1587e-09, 4.6129e-01, 1.7922e-09, 1.7032e-06, 5.0366e-02,\n",
      "         1.2902e-06, 9.3693e-16, 4.8781e-01, 3.1396e-05],\n",
      "        [1.2747e-04, 9.4976e-01, 1.8520e-03, 7.6970e-07, 3.8463e-13, 7.2607e-07,\n",
      "         9.9340e-08, 4.7763e-16, 1.6660e-02, 3.1600e-02],\n",
      "        [1.8912e-04, 2.1267e-03, 2.0288e-05, 2.6241e-08, 3.6018e-11, 9.8648e-01,\n",
      "         9.9517e-10, 1.5232e-13, 1.0946e-02, 2.3509e-04],\n",
      "        [2.3544e-03, 7.0433e-10, 6.3862e-02, 3.1458e-07, 2.6188e-12, 9.3350e-01,\n",
      "         1.7765e-08, 2.6084e-15, 3.7283e-05, 2.4706e-04],\n",
      "        [9.7384e-08, 2.3225e-08, 1.5344e-04, 1.3762e-03, 1.5612e-09, 7.5075e-01,\n",
      "         1.2586e-06, 1.0689e-11, 2.4770e-01, 1.8406e-05],\n",
      "        [1.7925e-04, 4.4145e-11, 3.1905e-03, 7.3460e-11, 3.1572e-14, 4.4714e-01,\n",
      "         8.8205e-11, 4.6963e-21, 5.4945e-01, 3.8526e-05],\n",
      "        [4.8436e-07, 9.7278e-16, 1.9525e-06, 1.3836e-10, 3.6368e-10, 9.9617e-01,\n",
      "         2.1656e-13, 4.7527e-24, 3.8273e-03, 1.7209e-07],\n",
      "        [2.7797e-06, 1.5453e-07, 1.3874e-04, 1.1344e-10, 3.2578e-13, 9.9931e-01,\n",
      "         4.1232e-09, 1.8400e-16, 4.0478e-05, 5.0327e-04],\n",
      "        [3.5305e-05, 1.2191e-06, 2.9563e-04, 1.1659e-10, 6.4755e-06, 9.9387e-01,\n",
      "         1.9887e-07, 1.9133e-13, 5.7824e-03, 4.3467e-06],\n",
      "        [8.4414e-10, 2.9147e-12, 4.7679e-05, 1.5666e-10, 3.5998e-14, 9.9995e-01,\n",
      "         4.5032e-08, 4.4622e-23, 6.3546e-08, 6.4936e-11],\n",
      "        [7.8253e-10, 6.7930e-13, 7.7167e-07, 7.5782e-05, 2.3452e-16, 9.9992e-01,\n",
      "         5.4260e-12, 7.9046e-17, 4.8096e-06, 1.6026e-06],\n",
      "        [9.1750e-01, 1.1041e-14, 4.4362e-05, 1.3494e-06, 5.0567e-08, 6.5160e-02,\n",
      "         4.5723e-03, 1.6380e-18, 1.2714e-02, 1.3237e-05],\n",
      "        [6.8874e-02, 7.1411e-03, 9.2600e-06, 3.4925e-09, 1.1642e-13, 2.2883e-02,\n",
      "         9.7494e-12, 2.7293e-20, 6.4790e-05, 9.0103e-01],\n",
      "        [2.1473e-04, 4.9868e-11, 9.8106e-01, 4.7485e-08, 7.8410e-12, 1.5508e-02,\n",
      "         2.2703e-09, 4.1846e-21, 2.9343e-03, 2.8472e-04],\n",
      "        [1.2338e-08, 2.8899e-10, 6.8674e-06, 5.7745e-09, 2.8898e-12, 9.9351e-01,\n",
      "         1.2037e-10, 3.5323e-22, 6.4728e-03, 5.5368e-06],\n",
      "        [7.6772e-06, 1.3809e-07, 6.6981e-01, 4.5844e-08, 9.7881e-12, 2.4194e-01,\n",
      "         6.5590e-08, 4.8024e-20, 8.7912e-02, 3.2891e-04],\n",
      "        [6.1164e-09, 8.8023e-09, 6.0592e-07, 4.8524e-11, 8.5257e-14, 1.3390e-01,\n",
      "         5.6240e-09, 5.0026e-22, 8.6515e-01, 9.4798e-04],\n",
      "        [4.7556e-05, 5.8340e-11, 3.7895e-02, 1.1233e-05, 2.6603e-11, 9.6164e-01,\n",
      "         7.1310e-14, 3.8038e-14, 1.1917e-05, 3.9799e-04],\n",
      "        [2.6108e-01, 3.1281e-05, 3.5151e-02, 7.5565e-07, 8.3368e-15, 3.4921e-01,\n",
      "         3.9888e-08, 4.4432e-17, 3.5409e-01, 4.3246e-04],\n",
      "        [3.7666e-05, 1.1167e-12, 4.7412e-05, 2.5990e-09, 5.5615e-11, 9.9967e-01,\n",
      "         8.4019e-14, 1.3301e-17, 2.3175e-04, 8.2303e-06],\n",
      "        [2.1681e-03, 3.7432e-07, 1.1169e-03, 5.7301e-09, 1.7371e-16, 9.9294e-01,\n",
      "         2.3596e-09, 1.1542e-17, 3.7499e-03, 2.5813e-05]])\n"
     ]
    }
   ],
   "source": [
    "#implementing softmax\n",
    "#dim=dimension\n",
    "#dim=1 gives sum across the columns\n",
    "#dim=0 gives sum across the rows\n",
    "def softmax(x):\n",
    "    return torch.exp(x)/torch.sum(torch.exp(x),dim=1).reshape(-1,1)\n",
    "    \n",
    "probability=softmax(output)\n",
    "print(probability.shape)\n",
    "print(probability.sum(dim=1))\n",
    "print(probability)\n",
    "        "
   ]
  },
  {
   "cell_type": "code",
   "execution_count": 29,
   "metadata": {},
   "outputs": [
    {
     "name": "stdout",
     "output_type": "stream",
     "text": [
      "Training Loss: -0.3027357599580847\n",
      "Training Loss: -0.6278992134815594\n",
      "Training Loss: -0.6982661037683995\n",
      "Training Loss: -0.7176279549532608\n",
      "Training Loss: -0.7276010817683327\n"
     ]
    }
   ],
   "source": [
    "#Neural Network using class and objects\n",
    "#Model1\n",
    "from torch import nn\n",
    "from torch import optim\n",
    "\n",
    "class Classifier(nn.Module):\n",
    "    def __init__(self):\n",
    "        super().__init__()\n",
    "        self.hidden1=nn.Linear(784,540)\n",
    "        #self.hidden2=nn.Linear(128,64)\n",
    "        self.relu=nn.ReLU()\n",
    "        self.output=nn.Linear(540,10)\n",
    "        self.softmax=nn.Softmax(dim=1)\n",
    "        \n",
    "    def forward(self,x):\n",
    "        x=self.hidden1(x)\n",
    "        x=self.relu(x)\n",
    "        x=self.output(x)\n",
    "        x=self.softmax(x)\n",
    "        \n",
    "        return x\n",
    "        \n",
    "        \n",
    "model1=Classifier()\n",
    "\n",
    "criterion=nn.NLLLoss()\n",
    "optimizer=optim.SGD(model1.parameters(),lr=0.01)\n",
    "\n",
    "epochs=5\n",
    "\n",
    "for e in range(epochs):\n",
    "    running_loss=0\n",
    "    for images,labels in trainloader:\n",
    "        images=images.view(images.shape[0],-1)\n",
    "        optimizer.zero_grad()\n",
    "        output=model1.forward(images)\n",
    "        loss=criterion(output,labels)\n",
    "        loss.backward()\n",
    "        optimizer.step()\n",
    "        running_loss=running_loss+loss.item()\n",
    "    \n",
    "    else:    \n",
    "        print(f\"Training Loss: {running_loss/len(trainloader)}\")   \n",
    "        "
   ]
  },
  {
   "cell_type": "code",
   "execution_count": 10,
   "metadata": {},
   "outputs": [
    {
     "name": "stdout",
     "output_type": "stream",
     "text": [
      "Training Loss: 1.0380624791484143\n",
      "Training Loss: 0.3820012266130081\n",
      "Training Loss: 0.3230013188872256\n",
      "Training Loss: 0.2916015040264455\n",
      "Training Loss: 0.26666828257633424\n"
     ]
    }
   ],
   "source": [
    "#Running for loop for certain epochs\n",
    "#Calculating loss\n",
    "#Then Optimizing the model by backpropagation\n",
    "#Updating the weights\n",
    "#Calculating the training loss\n",
    "\n",
    "from torch import nn\n",
    "from torch import optim\n",
    "model=nn.Sequential(nn.Linear(784,128),\n",
    "                   nn.ReLU(),\n",
    "                   nn.Linear(128,64),\n",
    "                   nn.ReLU(),\n",
    "                   nn.Linear(64,10),\n",
    "                   nn.LogSoftmax(dim=1))\n",
    "\n",
    "criterion=nn.NLLLoss()\n",
    "optimizer=optim.SGD(model.parameters(),lr=0.01)\n",
    "\n",
    "epochs=5\n",
    "\n",
    "for e in range(epochs):\n",
    "    running_loss=0\n",
    "    for images,labels in trainloader:\n",
    "        images=images.view(images.shape[0],-1)\n",
    "        optimizer.zero_grad()\n",
    "        output=model.forward(images)\n",
    "        loss=criterion(output,labels)\n",
    "        loss.backward()\n",
    "        optimizer.step()\n",
    "        running_loss=running_loss+loss.item()\n",
    "    \n",
    "    else:    \n",
    "        print(f\"Training Loss: {running_loss/len(trainloader)}\")        \n",
    "        \n",
    "\n"
   ]
  },
  {
   "cell_type": "code",
   "execution_count": null,
   "metadata": {},
   "outputs": [],
   "source": []
  },
  {
   "cell_type": "code",
   "execution_count": null,
   "metadata": {},
   "outputs": [],
   "source": []
  },
  {
   "cell_type": "code",
   "execution_count": 40,
   "metadata": {},
   "outputs": [
    {
     "data": {
      "image/png": "[encoded data removed]",
      "text/plain": [
       "<Figure size 432x648 with 2 Axes>"
      ]
     },
     "metadata": {
      "needs_background": "light"
     },
     "output_type": "display_data"
    }
   ],
   "source": [
    "import torch.nn.functional as F\n",
    "\n",
    "import helper\n",
    "images,labels=next(iter(trainloader))\n",
    "img=images[0].view(1,784)\n",
    "with torch.no_grad():\n",
    "    logits=model.forward(img)\n",
    "    \n",
    "ps=F.softmax(logits,dim=1)\n",
    "helper.view_classify(img.view(1,28,28),ps) \n",
    "\n"
   ]
  },
  {
   "cell_type": "code",
   "execution_count": 39,
   "metadata": {},
   "outputs": [
    {
     "data": {
      "image/png": "[encoded data removed]",
      "text/plain": [
       "<Figure size 432x648 with 2 Axes>"
      ]
     },
     "metadata": {
      "needs_background": "light"
     },
     "output_type": "display_data"
    }
   ],
   "source": [
    "import torch.nn.functional as F\n",
    "\n",
    "import helper\n",
    "images,labels=next(iter(trainloader))\n",
    "img=images[0].view(1,784)\n",
    "with torch.no_grad():\n",
    "    logits=model1.forward(img)\n",
    "    \n",
    "ps=F.softmax(logits,dim=1)\n",
    "helper.view_classify(img.view(1,28,28),ps) \n",
    "\n"
   ]
  },
  {
   "cell_type": "code",
   "execution_count": null,
   "metadata": {},
   "outputs": [],
   "source": []
  }
 ],
 "metadata": {
  "kernelspec": {
   "display_name": "Python 3",
   "language": "python",
   "name": "python3"
  },
  "language_info": {
   "codemirror_mode": {
    "name": "ipython",
    "version": 3
   },
   "file_extension": ".py",
   "mimetype": "text/x-python",
   "name": "python",
   "nbconvert_exporter": "python",
   "pygments_lexer": "ipython3",
   "version": "3.6.3"
  }
 },
 "nbformat": 4,
 "nbformat_minor": 2
}
